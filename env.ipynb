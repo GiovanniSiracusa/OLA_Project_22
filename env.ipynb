{
 "cells": [
  {
   "cell_type": "code",
   "execution_count": 141,
   "metadata": {},
   "outputs": [],
   "source": [
    "import numpy as np\n",
    "from copy import copy"
   ]
  },
  {
   "cell_type": "code",
   "execution_count": 142,
   "metadata": {},
   "outputs": [],
   "source": [
    "def simulate_episode(init_prob_matrix, n_steps_max, initial_active_node):\n",
    "    prob_matrix = init_prob_matrix.copy()\n",
    "    history = np.array([initial_active_node])\n",
    "    active_nodes = np.array([initial_active_node]) # array di active nodes esempio: se active_nodes sono 2 e 3 allora sarà [[0,1,0,0,0], [0,0,1,0,0]]\n",
    "    newly_active_nodes = active_nodes\n",
    "    t = 0\n",
    "    while (t < n_steps_max and np.sum(newly_active_nodes) > 0):\n",
    "        active_node = active_nodes[0].copy() # Prendi il primo active node in coda\n",
    "        active_nodes = active_nodes[1:]\n",
    "\n",
    "        p = (prob_matrix.T * active_node).T\n",
    "        activated_edges = p > np.random.rand(p.shape[0], p.shape[1])  # AGGIUNGERE I RESERVATION PRICE E LAMBDA\n",
    "        prob_matrix = prob_matrix * ((p != 0) == activated_edges)\n",
    "        newly_active_nodes = (np.sum(activated_edges, axis=0) > 0) * (1 - active_node)\n",
    "    \n",
    "        active_nodes = np.concatenate((active_nodes, [newly_active_nodes]), axis=0)\n",
    "        print(active_nodes)\n",
    "        history = np.concatenate((history, [newly_active_nodes]), axis=0)\n",
    "        t += 1\n",
    "    return history"
   ]
  },
  {
   "cell_type": "code",
   "execution_count": 143,
   "metadata": {},
   "outputs": [],
   "source": [
    "def estimate_probabilities(dataset, node_index, n_nodes):\n",
    "    estimated_prob = np.ones(n_nodes) * 1.0 / (n_nodes - 1)\n",
    "    credits = np.zeros(n_nodes)\n",
    "    occur_v_active = np.zeros(n_nodes)\n",
    "    n_episodes = len(dataset)\n",
    "    for episode in dataset:\n",
    "        idx_w_active = np.argwhere(episode[:, node_index] == 1).reshape(-1)\n",
    "        if len(idx_w_active) > 0 and idx_w_active > 0:\n",
    "            active_nodes_in_prev_step = episode[idx_w_active - 1, :].reshape(-1)\n",
    "            credits += active_nodes_in_prev_step / np.sum(active_nodes_in_prev_step)\n",
    "        for v in range(0, n_nodes):\n",
    "            if (v != node_index):\n",
    "                idx_v_active = np.argwhere(episode[:, v] == 1).reshape(-1)\n",
    "                if len(idx_v_active) > 0 and (idx_v_active < idx_w_active or len(idx_w_active) == 0):\n",
    "                    occur_v_active[v] += 1\n",
    "    estimated_prob = credits / occur_v_active\n",
    "    estimated_prob = np.nan_to_num(estimated_prob)\n",
    "    return estimated_prob"
   ]
  },
  {
   "cell_type": "code",
   "execution_count": 144,
   "metadata": {},
   "outputs": [
    {
     "name": "stdout",
     "output_type": "stream",
     "text": [
      "[0.10671352 0.043437   0.19977733 0.00329919 0.31619564 0.33057731]\n"
     ]
    }
   ],
   "source": [
    "n_nodes = 5\n",
    "n_episodes = 1000\n",
    "prob_matrix = np.random.uniform(0.0, 0.75, (n_nodes, n_nodes))\n",
    "\n",
    "nodes = np.array(range(n_nodes+1))\n",
    "alphas = np.random.dirichlet(np.ones(6), size=1).reshape(-1)\n",
    "print(alphas)"
   ]
  },
  {
   "cell_type": "code",
   "execution_count": 145,
   "metadata": {},
   "outputs": [
    {
     "ename": "ValueError",
     "evalue": "all the input array dimensions for the concatenation axis must match exactly, but along dimension 0, the array at index 0 has size 0 and the array at index 1 has size 1",
     "output_type": "error",
     "traceback": [
      "\u001b[1;31m---------------------------------------------------------------------------\u001b[0m",
      "\u001b[1;31mValueError\u001b[0m                                Traceback (most recent call last)",
      "\u001b[1;32m~\\AppData\\Local\\Temp/ipykernel_4616/3645272580.py\u001b[0m in \u001b[0;36m<module>\u001b[1;34m\u001b[0m\n\u001b[0;32m      7\u001b[0m     \u001b[0minitial_active_node\u001b[0m\u001b[1;33m[\u001b[0m\u001b[0minitial_node\u001b[0m\u001b[1;33m]\u001b[0m \u001b[1;33m=\u001b[0m \u001b[1;36m1\u001b[0m\u001b[1;33m\u001b[0m\u001b[1;33m\u001b[0m\u001b[0m\n\u001b[0;32m      8\u001b[0m     \u001b[0minitial_active_node\u001b[0m \u001b[1;33m=\u001b[0m \u001b[0minitial_active_node\u001b[0m\u001b[1;33m[\u001b[0m\u001b[1;36m1\u001b[0m\u001b[1;33m:\u001b[0m\u001b[1;33m]\u001b[0m\u001b[1;33m\u001b[0m\u001b[1;33m\u001b[0m\u001b[0m\n\u001b[1;32m----> 9\u001b[1;33m     \u001b[0mdataset\u001b[0m\u001b[1;33m.\u001b[0m\u001b[0mappend\u001b[0m\u001b[1;33m(\u001b[0m\u001b[0msimulate_episode\u001b[0m\u001b[1;33m(\u001b[0m\u001b[0minit_prob_matrix\u001b[0m\u001b[1;33m=\u001b[0m\u001b[0mprob_matrix\u001b[0m\u001b[1;33m,\u001b[0m \u001b[0mn_steps_max\u001b[0m\u001b[1;33m=\u001b[0m\u001b[1;36m10\u001b[0m\u001b[1;33m,\u001b[0m \u001b[0minitial_active_node\u001b[0m\u001b[1;33m=\u001b[0m\u001b[0minitial_active_node\u001b[0m\u001b[1;33m)\u001b[0m\u001b[1;33m)\u001b[0m\u001b[1;33m\u001b[0m\u001b[1;33m\u001b[0m\u001b[0m\n\u001b[0m\u001b[0;32m     10\u001b[0m    \u001b[1;31m# print(dataset)\u001b[0m\u001b[1;33m\u001b[0m\u001b[1;33m\u001b[0m\u001b[1;33m\u001b[0m\u001b[0m\n\u001b[0;32m     11\u001b[0m \u001b[1;33m\u001b[0m\u001b[0m\n",
      "\u001b[1;32m~\\AppData\\Local\\Temp/ipykernel_4616/3427185014.py\u001b[0m in \u001b[0;36msimulate_episode\u001b[1;34m(init_prob_matrix, n_steps_max, initial_active_node)\u001b[0m\n\u001b[0;32m     13\u001b[0m         \u001b[0mprob_matrix\u001b[0m \u001b[1;33m=\u001b[0m \u001b[0mprob_matrix\u001b[0m \u001b[1;33m*\u001b[0m \u001b[1;33m(\u001b[0m\u001b[1;33m(\u001b[0m\u001b[0mp\u001b[0m \u001b[1;33m!=\u001b[0m \u001b[1;36m0\u001b[0m\u001b[1;33m)\u001b[0m \u001b[1;33m==\u001b[0m \u001b[0mactivated_edges\u001b[0m\u001b[1;33m)\u001b[0m\u001b[1;33m\u001b[0m\u001b[1;33m\u001b[0m\u001b[0m\n\u001b[0;32m     14\u001b[0m         \u001b[0mnewly_active_nodes\u001b[0m \u001b[1;33m=\u001b[0m \u001b[1;33m(\u001b[0m\u001b[0mnp\u001b[0m\u001b[1;33m.\u001b[0m\u001b[0msum\u001b[0m\u001b[1;33m(\u001b[0m\u001b[0mactivated_edges\u001b[0m\u001b[1;33m,\u001b[0m \u001b[0maxis\u001b[0m\u001b[1;33m=\u001b[0m\u001b[1;36m0\u001b[0m\u001b[1;33m)\u001b[0m \u001b[1;33m>\u001b[0m \u001b[1;36m0\u001b[0m\u001b[1;33m)\u001b[0m \u001b[1;33m*\u001b[0m \u001b[1;33m(\u001b[0m\u001b[1;36m1\u001b[0m \u001b[1;33m-\u001b[0m \u001b[0mactive_node\u001b[0m\u001b[1;33m)\u001b[0m\u001b[1;33m\u001b[0m\u001b[1;33m\u001b[0m\u001b[0m\n\u001b[1;32m---> 15\u001b[1;33m         \u001b[0mactive_nodes\u001b[0m \u001b[1;33m=\u001b[0m \u001b[0mnp\u001b[0m\u001b[1;33m.\u001b[0m\u001b[0mconcatenate\u001b[0m\u001b[1;33m(\u001b[0m\u001b[1;33m(\u001b[0m\u001b[0mactive_nodes\u001b[0m\u001b[1;33m,\u001b[0m \u001b[1;33m[\u001b[0m\u001b[0mnewly_active_nodes\u001b[0m\u001b[1;33m]\u001b[0m\u001b[1;33m)\u001b[0m\u001b[1;33m,\u001b[0m \u001b[0maxis\u001b[0m\u001b[1;33m=\u001b[0m\u001b[1;36m1\u001b[0m\u001b[1;33m)\u001b[0m\u001b[1;33m\u001b[0m\u001b[1;33m\u001b[0m\u001b[0m\n\u001b[0m\u001b[0;32m     16\u001b[0m         \u001b[0mprint\u001b[0m\u001b[1;33m(\u001b[0m\u001b[0mactive_nodes\u001b[0m\u001b[1;33m)\u001b[0m\u001b[1;33m\u001b[0m\u001b[1;33m\u001b[0m\u001b[0m\n\u001b[0;32m     17\u001b[0m         \u001b[0mhistory\u001b[0m \u001b[1;33m=\u001b[0m \u001b[0mnp\u001b[0m\u001b[1;33m.\u001b[0m\u001b[0mconcatenate\u001b[0m\u001b[1;33m(\u001b[0m\u001b[1;33m(\u001b[0m\u001b[0mhistory\u001b[0m\u001b[1;33m,\u001b[0m \u001b[1;33m[\u001b[0m\u001b[0mnewly_active_nodes\u001b[0m\u001b[1;33m]\u001b[0m\u001b[1;33m)\u001b[0m\u001b[1;33m,\u001b[0m \u001b[0maxis\u001b[0m\u001b[1;33m=\u001b[0m\u001b[1;36m0\u001b[0m\u001b[1;33m)\u001b[0m\u001b[1;33m\u001b[0m\u001b[1;33m\u001b[0m\u001b[0m\n",
      "\u001b[1;32m<__array_function__ internals>\u001b[0m in \u001b[0;36mconcatenate\u001b[1;34m(*args, **kwargs)\u001b[0m\n",
      "\u001b[1;31mValueError\u001b[0m: all the input array dimensions for the concatenation axis must match exactly, but along dimension 0, the array at index 0 has size 0 and the array at index 1 has size 1"
     ]
    }
   ],
   "source": [
    "dataset = []\n",
    "node_index = np.array([4])\n",
    "\n",
    "for e in range(0, 1):\n",
    "    initial_node = np.random.choice(nodes, 1, p=alphas)\n",
    "    initial_active_node = np.zeros(n_nodes+1)\n",
    "    initial_active_node[initial_node] = 1\n",
    "    initial_active_node = initial_active_node[1:]\n",
    "    dataset.append(simulate_episode(init_prob_matrix=prob_matrix, n_steps_max=10, initial_active_node=initial_active_node))\n",
    "   # print(dataset)\n",
    "    \n",
    "for n in node_index:\n",
    "    estimated_prob = estimate_probabilities(dataset=dataset, node_index=n, n_nodes=n_nodes)\n",
    "    print(f\"{n}:{estimated_prob}\")\n",
    "\n",
    "print(\"True P Matrix: \")\n",
    "print(prob_matrix.T)\n"
   ]
  }
 ],
 "metadata": {
  "interpreter": {
   "hash": "d49c3f6d6dd49f9272b571d9fad348ab55b8c6c3f691520d74ed0af1f69c3dd8"
  },
  "kernelspec": {
   "display_name": "Python 3.7.4 64-bit",
   "language": "python",
   "name": "python3"
  },
  "language_info": {
   "codemirror_mode": {
    "name": "ipython",
    "version": 3
   },
   "file_extension": ".py",
   "mimetype": "text/x-python",
   "name": "python",
   "nbconvert_exporter": "python",
   "pygments_lexer": "ipython3",
   "version": "3.7.4"
  },
  "orig_nbformat": 4
 },
 "nbformat": 4,
 "nbformat_minor": 2
}
