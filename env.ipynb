{
 "cells": [
  {
   "cell_type": "code",
   "execution_count": 256,
   "metadata": {},
   "outputs": [],
   "source": [
    "import numpy as np\n",
    "from copy import copy"
   ]
  },
  {
   "cell_type": "code",
   "execution_count": 257,
   "metadata": {},
   "outputs": [],
   "source": [
    "def simulate_episode(init_prob_matrix, n_steps_max, initial_active_node):\n",
    "    prob_matrix = init_prob_matrix.copy()\n",
    "    history = np.array([initial_active_node])\n",
    "    active_nodes = np.array([initial_active_node]) # array di active nodes esempio: se active_nodes sono 2 e 3 allora sarà [[0,1,0,0,0], [0,0,1,0,0]]\n",
    "    newly_active_nodes = active_nodes\n",
    "    t = 0\n",
    "    print(active_nodes, end='\\n\\n')\n",
    "    while (t < n_steps_max and np.sum(newly_active_nodes) > 0):\n",
    "        active_node = active_nodes[0].copy() # Prendi il primo active node in coda\n",
    "        active_nodes = active_nodes[1:]\n",
    "        print(prob_matrix, end='\\n')\n",
    "        print(active_node)\n",
    "\n",
    "        p = (prob_matrix.T * active_node).T\n",
    "        activated_edges = p > np.random.rand(p.shape[0], p.shape[1])  # AGGIUNGERE I RESERVATION PRICE E LAMBDA\n",
    "        #prob_matrix = prob_matrix * ((p != 0) == activated_edges)\n",
    "        idx_active = np.argwhere(active_node)\n",
    "        prob_matrix[:, idx_active] = 0\n",
    "        newly_active_nodes = (np.sum(activated_edges, axis=0) > 0) * (1 - active_node)\n",
    "\n",
    "        for idx, val in enumerate(newly_active_nodes):\n",
    "            if val == 1:\n",
    "                a = np.zeros(5)\n",
    "                a[idx] = 1\n",
    "                active_nodes = np.concatenate((active_nodes, [a]), axis=0)\n",
    "        #print(active_nodes, end='\\n\\n')\n",
    "        active_nodes = np.unique(active_nodes, axis=0)\n",
    "        history = np.concatenate((history, [active_node]), axis=0)\n",
    "        t += 1\n",
    "    print(prob_matrix)\n",
    "    return history"
   ]
  },
  {
   "cell_type": "code",
   "execution_count": 258,
   "metadata": {},
   "outputs": [],
   "source": [
    "def estimate_probabilities(dataset, node_index, n_nodes):\n",
    "    estimated_prob = np.ones(n_nodes) * 1.0 / (n_nodes - 1)\n",
    "    credits = np.zeros(n_nodes)\n",
    "    occur_v_active = np.zeros(n_nodes)\n",
    "    n_episodes = len(dataset)\n",
    "    for episode in dataset:\n",
    "        idx_w_active = np.argwhere(episode[:, node_index] == 1).reshape(-1)\n",
    "        if len(idx_w_active) > 0 and idx_w_active > 0:\n",
    "            active_nodes_in_prev_step = episode[idx_w_active - 1, :].reshape(-1)\n",
    "            credits += active_nodes_in_prev_step / np.sum(active_nodes_in_prev_step)\n",
    "        for v in range(0, n_nodes):\n",
    "            if (v != node_index):\n",
    "                idx_v_active = np.argwhere(episode[:, v] == 1).reshape(-1)\n",
    "                if len(idx_v_active) > 0 and (idx_v_active < idx_w_active or len(idx_w_active) == 0):\n",
    "                    occur_v_active[v] += 1\n",
    "    estimated_prob = credits / occur_v_active\n",
    "    estimated_prob = np.nan_to_num(estimated_prob)\n",
    "    return estimated_prob"
   ]
  },
  {
   "cell_type": "code",
   "execution_count": 259,
   "metadata": {},
   "outputs": [
    {
     "name": "stdout",
     "output_type": "stream",
     "text": [
      "[0.03301081 0.0096459  0.40373719 0.17062718 0.30823982 0.07473909]\n"
     ]
    }
   ],
   "source": [
    "n_nodes = 5\n",
    "n_episodes = 1000\n",
    "prob_matrix = np.random.uniform(0.0, 0.9, (n_nodes, n_nodes))\n",
    "\n",
    "nodes = np.array(range(n_nodes+1))\n",
    "alphas = np.random.dirichlet(np.ones(6), size=1).reshape(-1)\n",
    "print(alphas)"
   ]
  },
  {
   "cell_type": "code",
   "execution_count": 260,
   "metadata": {},
   "outputs": [
    {
     "name": "stdout",
     "output_type": "stream",
     "text": [
      "[[0. 0. 0. 1. 0.]]\n",
      "\n",
      "[[0.83341472 0.27581062 0.29891048 0.74454813 0.63350268]\n",
      " [0.25987684 0.2498823  0.18951515 0.37318673 0.05531461]\n",
      " [0.7144913  0.76763421 0.78233106 0.1758947  0.10697677]\n",
      " [0.89295093 0.35593285 0.52793943 0.50562442 0.82641027]\n",
      " [0.61940431 0.40497553 0.23731897 0.64269717 0.37069272]]\n",
      "[0. 0. 0. 1. 0.]\n",
      "[[0.83341472 0.27581062 0.29891048 0.         0.63350268]\n",
      " [0.25987684 0.2498823  0.18951515 0.         0.05531461]\n",
      " [0.7144913  0.76763421 0.78233106 0.         0.10697677]\n",
      " [0.89295093 0.35593285 0.52793943 0.         0.82641027]\n",
      " [0.61940431 0.40497553 0.23731897 0.         0.37069272]]\n",
      "[1. 0. 0. 0. 0.]\n",
      "[[0.         0.27581062 0.29891048 0.         0.63350268]\n",
      " [0.         0.2498823  0.18951515 0.         0.05531461]\n",
      " [0.         0.76763421 0.78233106 0.         0.10697677]\n",
      " [0.         0.35593285 0.52793943 0.         0.82641027]\n",
      " [0.         0.40497553 0.23731897 0.         0.37069272]]\n",
      "[0. 1. 0. 0. 0.]\n",
      "[[0.         0.         0.29891048 0.         0.63350268]\n",
      " [0.         0.         0.18951515 0.         0.05531461]\n",
      " [0.         0.         0.78233106 0.         0.10697677]\n",
      " [0.         0.         0.52793943 0.         0.82641027]\n",
      " [0.         0.         0.23731897 0.         0.37069272]]\n",
      "[array([[0., 0., 0., 1., 0.],\n",
      "       [0., 0., 0., 1., 0.],\n",
      "       [1., 0., 0., 0., 0.],\n",
      "       [0., 1., 0., 0., 0.]])]\n"
     ]
    },
    {
     "name": "stderr",
     "output_type": "stream",
     "text": [
      "c:\\Python37\\lib\\site-packages\\ipykernel_launcher.py:14: DeprecationWarning: The truth value of an empty array is ambiguous. Returning False, but in future this will result in an error. Use `array.size > 0` to check that an array is not empty.\n",
      "  \n"
     ]
    },
    {
     "ename": "ValueError",
     "evalue": "operands could not be broadcast together with shapes (2,) (0,) ",
     "output_type": "error",
     "traceback": [
      "\u001B[1;31m---------------------------------------------------------------------------\u001B[0m",
      "\u001B[1;31mValueError\u001B[0m                                Traceback (most recent call last)",
      "\u001B[1;32m~\\AppData\\Local\\Temp/ipykernel_4616/1691406739.py\u001B[0m in \u001B[0;36m<module>\u001B[1;34m\u001B[0m\n\u001B[0;32m     11\u001B[0m \u001B[1;33m\u001B[0m\u001B[0m\n\u001B[0;32m     12\u001B[0m \u001B[1;32mfor\u001B[0m \u001B[0mn\u001B[0m \u001B[1;32min\u001B[0m \u001B[0mnode_index\u001B[0m\u001B[1;33m:\u001B[0m\u001B[1;33m\u001B[0m\u001B[1;33m\u001B[0m\u001B[0m\n\u001B[1;32m---> 13\u001B[1;33m     \u001B[0mestimated_prob\u001B[0m \u001B[1;33m=\u001B[0m \u001B[0mestimate_probabilities\u001B[0m\u001B[1;33m(\u001B[0m\u001B[0mdataset\u001B[0m\u001B[1;33m=\u001B[0m\u001B[0mdataset\u001B[0m\u001B[1;33m,\u001B[0m \u001B[0mnode_index\u001B[0m\u001B[1;33m=\u001B[0m\u001B[0mn\u001B[0m\u001B[1;33m,\u001B[0m \u001B[0mn_nodes\u001B[0m\u001B[1;33m=\u001B[0m\u001B[0mn_nodes\u001B[0m\u001B[1;33m)\u001B[0m\u001B[1;33m\u001B[0m\u001B[1;33m\u001B[0m\u001B[0m\n\u001B[0m\u001B[0;32m     14\u001B[0m     \u001B[0mprint\u001B[0m\u001B[1;33m(\u001B[0m\u001B[1;34mf\"{n}:{estimated_prob}\"\u001B[0m\u001B[1;33m)\u001B[0m\u001B[1;33m\u001B[0m\u001B[1;33m\u001B[0m\u001B[0m\n\u001B[0;32m     15\u001B[0m \u001B[1;33m\u001B[0m\u001B[0m\n",
      "\u001B[1;32m~\\AppData\\Local\\Temp/ipykernel_4616/143744143.py\u001B[0m in \u001B[0;36mestimate_probabilities\u001B[1;34m(dataset, node_index, n_nodes)\u001B[0m\n\u001B[0;32m     12\u001B[0m             \u001B[1;32mif\u001B[0m \u001B[1;33m(\u001B[0m\u001B[0mv\u001B[0m \u001B[1;33m!=\u001B[0m \u001B[0mnode_index\u001B[0m\u001B[1;33m)\u001B[0m\u001B[1;33m:\u001B[0m\u001B[1;33m\u001B[0m\u001B[1;33m\u001B[0m\u001B[0m\n\u001B[0;32m     13\u001B[0m                 \u001B[0midx_v_active\u001B[0m \u001B[1;33m=\u001B[0m \u001B[0mnp\u001B[0m\u001B[1;33m.\u001B[0m\u001B[0margwhere\u001B[0m\u001B[1;33m(\u001B[0m\u001B[0mepisode\u001B[0m\u001B[1;33m[\u001B[0m\u001B[1;33m:\u001B[0m\u001B[1;33m,\u001B[0m \u001B[0mv\u001B[0m\u001B[1;33m]\u001B[0m \u001B[1;33m==\u001B[0m \u001B[1;36m1\u001B[0m\u001B[1;33m)\u001B[0m\u001B[1;33m.\u001B[0m\u001B[0mreshape\u001B[0m\u001B[1;33m(\u001B[0m\u001B[1;33m-\u001B[0m\u001B[1;36m1\u001B[0m\u001B[1;33m)\u001B[0m\u001B[1;33m\u001B[0m\u001B[1;33m\u001B[0m\u001B[0m\n\u001B[1;32m---> 14\u001B[1;33m                 \u001B[1;32mif\u001B[0m \u001B[0mlen\u001B[0m\u001B[1;33m(\u001B[0m\u001B[0midx_v_active\u001B[0m\u001B[1;33m)\u001B[0m \u001B[1;33m>\u001B[0m \u001B[1;36m0\u001B[0m \u001B[1;32mand\u001B[0m \u001B[1;33m(\u001B[0m\u001B[0midx_v_active\u001B[0m \u001B[1;33m<\u001B[0m \u001B[0midx_w_active\u001B[0m \u001B[1;32mor\u001B[0m \u001B[0mlen\u001B[0m\u001B[1;33m(\u001B[0m\u001B[0midx_w_active\u001B[0m\u001B[1;33m)\u001B[0m \u001B[1;33m==\u001B[0m \u001B[1;36m0\u001B[0m\u001B[1;33m)\u001B[0m\u001B[1;33m:\u001B[0m\u001B[1;33m\u001B[0m\u001B[1;33m\u001B[0m\u001B[0m\n\u001B[0m\u001B[0;32m     15\u001B[0m                     \u001B[0moccur_v_active\u001B[0m\u001B[1;33m[\u001B[0m\u001B[0mv\u001B[0m\u001B[1;33m]\u001B[0m \u001B[1;33m+=\u001B[0m \u001B[1;36m1\u001B[0m\u001B[1;33m\u001B[0m\u001B[1;33m\u001B[0m\u001B[0m\n\u001B[0;32m     16\u001B[0m     \u001B[0mestimated_prob\u001B[0m \u001B[1;33m=\u001B[0m \u001B[0mcredits\u001B[0m \u001B[1;33m/\u001B[0m \u001B[0moccur_v_active\u001B[0m\u001B[1;33m\u001B[0m\u001B[1;33m\u001B[0m\u001B[0m\n",
      "\u001B[1;31mValueError\u001B[0m: operands could not be broadcast together with shapes (2,) (0,) "
     ]
    }
   ],
   "source": [
    "dataset = []\n",
    "node_index = np.array([4])\n",
    "\n",
    "for e in range(0, 1):\n",
    "    initial_node = np.random.choice(nodes, 1, p=alphas)\n",
    "    initial_active_node = np.zeros(n_nodes+1)\n",
    "    initial_active_node[initial_node] = 1\n",
    "    initial_active_node = initial_active_node[1:]\n",
    "    dataset.append(simulate_episode(init_prob_matrix=prob_matrix, n_steps_max=10, initial_active_node=initial_active_node))\n",
    "    print(dataset)\n",
    "    \n",
    "for n in node_index:\n",
    "    estimated_prob = estimate_probabilities(dataset=dataset, node_index=n, n_nodes=n_nodes)\n",
    "    print(f\"{n}:{estimated_prob}\")\n",
    "\n",
    "print(\"True P Matrix: \")\n",
    "print(prob_matrix.T)\n"
   ]
  }
 ],
 "metadata": {
  "interpreter": {
   "hash": "d49c3f6d6dd49f9272b571d9fad348ab55b8c6c3f691520d74ed0af1f69c3dd8"
  },
  "kernelspec": {
   "display_name": "Python 3.7.4 64-bit",
   "language": "python",
   "name": "python3"
  },
  "language_info": {
   "codemirror_mode": {
    "name": "ipython",
    "version": 3
   },
   "file_extension": ".py",
   "mimetype": "text/x-python",
   "name": "python",
   "nbconvert_exporter": "python",
   "pygments_lexer": "ipython3",
   "version": "3.7.4"
  },
  "orig_nbformat": 4
 },
 "nbformat": 4,
 "nbformat_minor": 2
}